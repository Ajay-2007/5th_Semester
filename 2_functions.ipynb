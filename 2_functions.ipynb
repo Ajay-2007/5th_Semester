{
  "nbformat": 4,
  "nbformat_minor": 0,
  "metadata": {
    "colab": {
      "name": "2.functions.ipynb",
      "provenance": [],
      "authorship_tag": "ABX9TyOitINTYy846IAWEb6p8Mcc",
      "include_colab_link": true
    },
    "kernelspec": {
      "name": "python3",
      "display_name": "Python 3"
    }
  },
  "cells": [
    {
      "cell_type": "markdown",
      "metadata": {
        "id": "view-in-github",
        "colab_type": "text"
      },
      "source": [
        "<a href=\"https://colab.research.google.com/github/Ajay-2007/5th_Semester/blob/master/2_functions.ipynb\" target=\"_parent\"><img src=\"https://colab.research.google.com/assets/colab-badge.svg\" alt=\"Open In Colab\"/></a>"
      ]
    },
    {
      "cell_type": "code",
      "metadata": {
        "id": "FXwZjuZUNXd_",
        "outputId": "126fd298-3aa4-42ea-fc42-b5d075f3a1be",
        "colab": {
          "base_uri": "https://localhost:8080/"
        }
      },
      "source": [
        "n = int(input())\n",
        "r = int(input())\n",
        "\n",
        "\n",
        "n_fact = 1\n",
        "for i in range(1, n + 1):\n",
        "  n_fact = n_fact * i\n",
        "\n",
        "r_fact = 1\n",
        "for i in range(1, r + 1):\n",
        "  r_fact = r_fact * i\n",
        "\n",
        "\n",
        "n_r_fact = 1\n",
        "for i in range(1, n-r + 1):\n",
        "  n_r_fact = n_r_fact * i\n",
        "\n",
        "ans = n_fact // (r_fact * n_r_fact)\n",
        "print(ans)"
      ],
      "execution_count": 4,
      "outputs": [
        {
          "output_type": "stream",
          "text": [
            "4\n",
            "2\n",
            "6\n"
          ],
          "name": "stdout"
        }
      ]
    },
    {
      "cell_type": "code",
      "metadata": {
        "id": "-ruDVqt1PZM9"
      },
      "source": [
        "def fact(a):\n",
        "  a_fact = 1\n",
        "  for i in range(1, a + 1):\n",
        "    a_fact = a_fact * i\n",
        "  return a_fact"
      ],
      "execution_count": 16,
      "outputs": []
    },
    {
      "cell_type": "code",
      "metadata": {
        "id": "8iHwd-iTQz0O",
        "outputId": "1f1a7b37-48f3-46c6-fc89-aafa0f3fc19a",
        "colab": {
          "base_uri": "https://localhost:8080/"
        }
      },
      "source": [
        "fact(4)"
      ],
      "execution_count": 17,
      "outputs": [
        {
          "output_type": "execute_result",
          "data": {
            "text/plain": [
              "24"
            ]
          },
          "metadata": {
            "tags": []
          },
          "execution_count": 17
        }
      ]
    },
    {
      "cell_type": "code",
      "metadata": {
        "id": "9CMpI52JQ1ip",
        "outputId": "0d13fc2c-0c4f-47d1-cd12-7319303eb00f",
        "colab": {
          "base_uri": "https://localhost:8080/"
        }
      },
      "source": [
        "a = fact(4)\n",
        "a"
      ],
      "execution_count": 18,
      "outputs": [
        {
          "output_type": "execute_result",
          "data": {
            "text/plain": [
              "24"
            ]
          },
          "metadata": {
            "tags": []
          },
          "execution_count": 18
        }
      ]
    },
    {
      "cell_type": "code",
      "metadata": {
        "id": "vZx_bCi7RClw",
        "outputId": "0ff84c9e-3c4e-4a93-e5ea-47ea2de6acd8",
        "colab": {
          "base_uri": "https://localhost:8080/"
        }
      },
      "source": [
        "n = int(input())\n",
        "r = int(input())\n",
        "\n",
        "\n",
        "n_fact = fact(n)\n",
        "r_fact = fact(r)\n",
        "n_r_fact = fact(n - r)\n",
        "ans = n_fact // (r_fact * n_r_fact)\n",
        "print(ans)\n"
      ],
      "execution_count": 19,
      "outputs": [
        {
          "output_type": "stream",
          "text": [
            "5\n",
            "2\n",
            "10\n"
          ],
          "name": "stdout"
        }
      ]
    },
    {
      "cell_type": "code",
      "metadata": {
        "id": "90yjdVqDRRcz"
      },
      "source": [
        "def isPrime(n):\n",
        "  for d in range(2, n):\n",
        "    if (n % d == 0):\n",
        "      break\n",
        "    else:\n",
        "      return True\n",
        "      \n",
        "  return False"
      ],
      "execution_count": 20,
      "outputs": []
    },
    {
      "cell_type": "code",
      "metadata": {
        "id": "camYaF49Rp0M",
        "outputId": "320c108a-cec7-443a-af80-962a24756abf",
        "colab": {
          "base_uri": "https://localhost:8080/"
        }
      },
      "source": [
        "isPrime(10)"
      ],
      "execution_count": 21,
      "outputs": [
        {
          "output_type": "execute_result",
          "data": {
            "text/plain": [
              "False"
            ]
          },
          "metadata": {
            "tags": []
          },
          "execution_count": 21
        }
      ]
    },
    {
      "cell_type": "code",
      "metadata": {
        "id": "zNWB_GPcUG44",
        "outputId": "5f3c36b4-ac38-49f4-fbe2-f9953d614dd7",
        "colab": {
          "base_uri": "https://localhost:8080/"
        }
      },
      "source": [
        "isPrime(17)"
      ],
      "execution_count": 22,
      "outputs": [
        {
          "output_type": "execute_result",
          "data": {
            "text/plain": [
              "True"
            ]
          },
          "metadata": {
            "tags": []
          },
          "execution_count": 22
        }
      ]
    },
    {
      "cell_type": "code",
      "metadata": {
        "id": "aJn_cnrKUITI"
      },
      "source": [
        "def primeFrom2ToN(n):\n",
        "  for k in range(2, n + 1):\n",
        "    # check if k is prime and in case it is prime we print k\n",
        "    is_k_prime = isPrime(k)\n",
        "    if (is_k_prime):\n",
        "      print(k)"
      ],
      "execution_count": 23,
      "outputs": []
    },
    {
      "cell_type": "code",
      "metadata": {
        "id": "ZgwFGMsCUuhd",
        "outputId": "8b5bd659-b990-4cf3-f9f9-cc67857e4eed",
        "colab": {
          "base_uri": "https://localhost:8080/"
        }
      },
      "source": [
        "primeFrom2ToN(20)"
      ],
      "execution_count": 24,
      "outputs": [
        {
          "output_type": "stream",
          "text": [
            "3\n",
            "5\n",
            "7\n",
            "9\n",
            "11\n",
            "13\n",
            "15\n",
            "17\n",
            "19\n"
          ],
          "name": "stdout"
        }
      ]
    },
    {
      "cell_type": "code",
      "metadata": {
        "id": "PhMjKuQ0UwuK"
      },
      "source": [
        "def ncr(n, r):\n",
        "  n_fact = fact(n)\n",
        "  r_fact = fact(r)\n",
        "  n_r_fact = fact(n - r)\n",
        "  ans = n_fact // (r_fact * n_r_fact)\n",
        "  return ans"
      ],
      "execution_count": 26,
      "outputs": []
    },
    {
      "cell_type": "code",
      "metadata": {
        "id": "kehdtNSIVMD-",
        "outputId": "e676f5b7-696f-426f-9344-9db143fef421",
        "colab": {
          "base_uri": "https://localhost:8080/"
        }
      },
      "source": [
        "ncr(5, 2)"
      ],
      "execution_count": 27,
      "outputs": [
        {
          "output_type": "execute_result",
          "data": {
            "text/plain": [
              "10"
            ]
          },
          "metadata": {
            "tags": []
          },
          "execution_count": 27
        }
      ]
    },
    {
      "cell_type": "code",
      "metadata": {
        "id": "tMc3XDddVi5p",
        "outputId": "401a5516-fc93-4dd6-978c-45be4a1a97c9",
        "colab": {
          "base_uri": "https://localhost:8080/",
          "height": 214
        }
      },
      "source": [
        " a1 = 10 # global variable\n",
        "\n",
        " def f1():\n",
        "   b1 = 12 # local variable\n",
        "  \n",
        "print(a1)\n",
        "print(b1)"
      ],
      "execution_count": 28,
      "outputs": [
        {
          "output_type": "stream",
          "text": [
            "10\n"
          ],
          "name": "stdout"
        },
        {
          "output_type": "error",
          "ename": "NameError",
          "evalue": "ignored",
          "traceback": [
            "\u001b[0;31m---------------------------------------------------------------------------\u001b[0m",
            "\u001b[0;31mNameError\u001b[0m                                 Traceback (most recent call last)",
            "\u001b[0;32m<ipython-input-28-7ea2d1eb14d2>\u001b[0m in \u001b[0;36m<module>\u001b[0;34m()\u001b[0m\n\u001b[1;32m      5\u001b[0m \u001b[0;34m\u001b[0m\u001b[0m\n\u001b[1;32m      6\u001b[0m \u001b[0mprint\u001b[0m\u001b[0;34m(\u001b[0m\u001b[0ma1\u001b[0m\u001b[0;34m)\u001b[0m\u001b[0;34m\u001b[0m\u001b[0;34m\u001b[0m\u001b[0m\n\u001b[0;32m----> 7\u001b[0;31m \u001b[0mprint\u001b[0m\u001b[0;34m(\u001b[0m\u001b[0mb1\u001b[0m\u001b[0;34m)\u001b[0m\u001b[0;34m\u001b[0m\u001b[0;34m\u001b[0m\u001b[0m\n\u001b[0m",
            "\u001b[0;31mNameError\u001b[0m: name 'b1' is not defined"
          ]
        }
      ]
    },
    {
      "cell_type": "code",
      "metadata": {
        "id": "SMIlMGCkZUPw",
        "outputId": "a6091222-a0b1-4511-a1f5-fa576623c901",
        "colab": {
          "base_uri": "https://localhost:8080/",
          "height": 214
        }
      },
      "source": [
        " a1 = 10 # global variable\n",
        "\n",
        " def f1():\n",
        "   b1 = 12 # local variable\n",
        "  \n",
        "print(a1)\n",
        "f1()\n",
        "print(b1)"
      ],
      "execution_count": 29,
      "outputs": [
        {
          "output_type": "stream",
          "text": [
            "10\n"
          ],
          "name": "stdout"
        },
        {
          "output_type": "error",
          "ename": "NameError",
          "evalue": "ignored",
          "traceback": [
            "\u001b[0;31m---------------------------------------------------------------------------\u001b[0m",
            "\u001b[0;31mNameError\u001b[0m                                 Traceback (most recent call last)",
            "\u001b[0;32m<ipython-input-29-dbd04a744adc>\u001b[0m in \u001b[0;36m<module>\u001b[0;34m()\u001b[0m\n\u001b[1;32m      6\u001b[0m \u001b[0mprint\u001b[0m\u001b[0;34m(\u001b[0m\u001b[0ma1\u001b[0m\u001b[0;34m)\u001b[0m\u001b[0;34m\u001b[0m\u001b[0;34m\u001b[0m\u001b[0m\n\u001b[1;32m      7\u001b[0m \u001b[0mf1\u001b[0m\u001b[0;34m(\u001b[0m\u001b[0;34m)\u001b[0m\u001b[0;34m\u001b[0m\u001b[0;34m\u001b[0m\u001b[0m\n\u001b[0;32m----> 8\u001b[0;31m \u001b[0mprint\u001b[0m\u001b[0;34m(\u001b[0m\u001b[0mb1\u001b[0m\u001b[0;34m)\u001b[0m\u001b[0;34m\u001b[0m\u001b[0;34m\u001b[0m\u001b[0m\n\u001b[0m",
            "\u001b[0;31mNameError\u001b[0m: name 'b1' is not defined"
          ]
        }
      ]
    },
    {
      "cell_type": "code",
      "metadata": {
        "id": "5QY0LNgfZbVb",
        "outputId": "12d94f6a-3a83-4a03-a9f0-e1b172604d44",
        "colab": {
          "base_uri": "https://localhost:8080/"
        }
      },
      "source": [
        " a1 = 10 # global variable\n",
        "\n",
        " def f1():\n",
        "  b1 = 12 # local variable\n",
        "  print(b1)\n",
        "print(a1)\n",
        "f1()\n",
        "# can not print a local variable outside the function print(b1)"
      ],
      "execution_count": 32,
      "outputs": [
        {
          "output_type": "stream",
          "text": [
            "10\n",
            "12\n"
          ],
          "name": "stdout"
        }
      ]
    },
    {
      "cell_type": "code",
      "metadata": {
        "id": "m8TIY0MhZeHQ",
        "outputId": "899fbba6-58e9-4d97-af42-18fc6a702071",
        "colab": {
          "base_uri": "https://localhost:8080/"
        }
      },
      "source": [
        " a2 = 10 # global variable\n",
        "\n",
        " def f2():\n",
        "  b2 = 12 # local variable\n",
        "  print(b2)\n",
        "  print(a2)\n",
        "\n",
        "print(a2)\n",
        "f2()"
      ],
      "execution_count": 34,
      "outputs": [
        {
          "output_type": "stream",
          "text": [
            "10\n",
            "12\n",
            "10\n"
          ],
          "name": "stdout"
        }
      ]
    },
    {
      "cell_type": "code",
      "metadata": {
        "id": "XOq-30NGZzDJ",
        "outputId": "a4072cbb-31e4-4d7a-b41d-98d70ae304ec",
        "colab": {
          "base_uri": "https://localhost:8080/"
        }
      },
      "source": [
        "\n",
        "def f2():\n",
        "  b2 = 12 # local variable\n",
        "  print(b2)\n",
        "  print(a2)\n",
        "\n",
        "a2 = 10 # global variable\n",
        "\n",
        "print(a2)\n",
        "f2()"
      ],
      "execution_count": 36,
      "outputs": [
        {
          "output_type": "stream",
          "text": [
            "10\n",
            "12\n",
            "10\n"
          ],
          "name": "stdout"
        }
      ]
    },
    {
      "cell_type": "code",
      "metadata": {
        "id": "uuRAcYgZaFE8",
        "outputId": "d254ab59-ee28-4e6d-9fd0-32320bfe2069",
        "colab": {
          "base_uri": "https://localhost:8080/",
          "height": 384
        }
      },
      "source": [
        "\n",
        "def f2():\n",
        "  b2 = 12 # local variable\n",
        "  print(b2)\n",
        "  print(a2)\n",
        "  print(c3)\n",
        "\n",
        "a2 = 10 # global variable\n",
        "\n",
        "print(a2)\n",
        "f2()\n",
        "c3 = 20"
      ],
      "execution_count": 37,
      "outputs": [
        {
          "output_type": "stream",
          "text": [
            "10\n",
            "12\n",
            "10\n"
          ],
          "name": "stdout"
        },
        {
          "output_type": "error",
          "ename": "NameError",
          "evalue": "ignored",
          "traceback": [
            "\u001b[0;31m---------------------------------------------------------------------------\u001b[0m",
            "\u001b[0;31mNameError\u001b[0m                                 Traceback (most recent call last)",
            "\u001b[0;32m<ipython-input-37-62eb42d8bb96>\u001b[0m in \u001b[0;36m<module>\u001b[0;34m()\u001b[0m\n\u001b[1;32m      9\u001b[0m \u001b[0;34m\u001b[0m\u001b[0m\n\u001b[1;32m     10\u001b[0m \u001b[0mprint\u001b[0m\u001b[0;34m(\u001b[0m\u001b[0ma2\u001b[0m\u001b[0;34m)\u001b[0m\u001b[0;34m\u001b[0m\u001b[0;34m\u001b[0m\u001b[0m\n\u001b[0;32m---> 11\u001b[0;31m \u001b[0mf2\u001b[0m\u001b[0;34m(\u001b[0m\u001b[0;34m)\u001b[0m\u001b[0;34m\u001b[0m\u001b[0;34m\u001b[0m\u001b[0m\n\u001b[0m\u001b[1;32m     12\u001b[0m \u001b[0mc3\u001b[0m \u001b[0;34m=\u001b[0m \u001b[0;36m20\u001b[0m\u001b[0;34m\u001b[0m\u001b[0;34m\u001b[0m\u001b[0m\n",
            "\u001b[0;32m<ipython-input-37-62eb42d8bb96>\u001b[0m in \u001b[0;36mf2\u001b[0;34m()\u001b[0m\n\u001b[1;32m      4\u001b[0m   \u001b[0mprint\u001b[0m\u001b[0;34m(\u001b[0m\u001b[0mb2\u001b[0m\u001b[0;34m)\u001b[0m\u001b[0;34m\u001b[0m\u001b[0;34m\u001b[0m\u001b[0m\n\u001b[1;32m      5\u001b[0m   \u001b[0mprint\u001b[0m\u001b[0;34m(\u001b[0m\u001b[0ma2\u001b[0m\u001b[0;34m)\u001b[0m\u001b[0;34m\u001b[0m\u001b[0;34m\u001b[0m\u001b[0m\n\u001b[0;32m----> 6\u001b[0;31m   \u001b[0mprint\u001b[0m\u001b[0;34m(\u001b[0m\u001b[0mc3\u001b[0m\u001b[0;34m)\u001b[0m\u001b[0;34m\u001b[0m\u001b[0;34m\u001b[0m\u001b[0m\n\u001b[0m\u001b[1;32m      7\u001b[0m \u001b[0;34m\u001b[0m\u001b[0m\n\u001b[1;32m      8\u001b[0m \u001b[0ma2\u001b[0m \u001b[0;34m=\u001b[0m \u001b[0;36m10\u001b[0m \u001b[0;31m# global variable\u001b[0m\u001b[0;34m\u001b[0m\u001b[0;34m\u001b[0m\u001b[0m\n",
            "\u001b[0;31mNameError\u001b[0m: name 'c3' is not defined"
          ]
        }
      ]
    },
    {
      "cell_type": "code",
      "metadata": {
        "id": "t-H9CY-LaQok",
        "outputId": "a06952f9-b877-416d-bb82-5bff2eb6ada4",
        "colab": {
          "base_uri": "https://localhost:8080/"
        }
      },
      "source": [
        "\n",
        "# you can access any global variable defined before the function call\n",
        "def f2():\n",
        "  b2 = 12 # local variable\n",
        "  print(b2)\n",
        "  print(a2)\n",
        "  #print(c3)\n",
        "\n",
        "a2 = 10 # global variable\n",
        "\n",
        "print(a2)\n",
        "f2()\n",
        "c3 = 20"
      ],
      "execution_count": 42,
      "outputs": [
        {
          "output_type": "stream",
          "text": [
            "10\n",
            "12\n",
            "10\n"
          ],
          "name": "stdout"
        }
      ]
    },
    {
      "cell_type": "code",
      "metadata": {
        "id": "9Vu1yHm_aZX0",
        "outputId": "bef19623-eaf6-457c-f6d0-784a024e3cf7",
        "colab": {
          "base_uri": "https://localhost:8080/"
        }
      },
      "source": [
        "a4 = 13\n",
        "def f4():\n",
        "  a4 = 12 # python assumes that you're creating a local variable\n",
        "  print(id(a4))\n",
        "\n",
        "print(a4)\n",
        "f4()\n",
        "print(id(a4))"
      ],
      "execution_count": 43,
      "outputs": [
        {
          "output_type": "stream",
          "text": [
            "13\n",
            "10914848\n",
            "10914880\n"
          ],
          "name": "stdout"
        }
      ]
    },
    {
      "cell_type": "code",
      "metadata": {
        "id": "IUDEpoPnagKU",
        "outputId": "99066771-1fb4-4277-d4fe-4cc7c6c83cab",
        "colab": {
          "base_uri": "https://localhost:8080/"
        }
      },
      "source": [
        "a4 = 13\n",
        "def f4():\n",
        "  global a4\n",
        "  a4 = 12 # python assumes that you're creating a local variable\n",
        "  print(a4)\n",
        "  print(id(a4))\n",
        "\n",
        "print(a4)\n",
        "f4()\n",
        "print(a4)\n",
        "print(id(a4))"
      ],
      "execution_count": 44,
      "outputs": [
        {
          "output_type": "stream",
          "text": [
            "13\n",
            "12\n",
            "10914848\n",
            "12\n",
            "10914848\n"
          ],
          "name": "stdout"
        }
      ]
    },
    {
      "cell_type": "code",
      "metadata": {
        "id": "cpAx6h-DbFSO",
        "outputId": "52ac6409-41b5-4a11-beb9-6fea0bd64a23",
        "colab": {
          "base_uri": "https://localhost:8080/"
        }
      },
      "source": [
        "def sum(a, b, c = 0):\n",
        "  print(c)\n",
        "  return a + b + c\n",
        "\n",
        "print(sum(2, 3, 4))\n",
        "print(sum(3, 4))"
      ],
      "execution_count": 45,
      "outputs": [
        {
          "output_type": "stream",
          "text": [
            "4\n",
            "9\n",
            "0\n",
            "7\n"
          ],
          "name": "stdout"
        }
      ]
    },
    {
      "cell_type": "code",
      "metadata": {
        "id": "md1mlpPDefNv",
        "outputId": "b9bc8177-89af-46ef-b685-3060e13292de",
        "colab": {
          "base_uri": "https://localhost:8080/",
          "height": 129
        }
      },
      "source": [
        "# all non default arguments should be before arguments with default values\n",
        "def f(a = 0, b, c):\n",
        "  return a + b + c\n",
        "\n",
        "f(1, 2)"
      ],
      "execution_count": 47,
      "outputs": [
        {
          "output_type": "error",
          "ename": "SyntaxError",
          "evalue": "ignored",
          "traceback": [
            "\u001b[0;36m  File \u001b[0;32m\"<ipython-input-47-7dfefdddb6ab>\"\u001b[0;36m, line \u001b[0;32m2\u001b[0m\n\u001b[0;31m    def f(a = 0, b, c):\u001b[0m\n\u001b[0m         ^\u001b[0m\n\u001b[0;31mSyntaxError\u001b[0m\u001b[0;31m:\u001b[0m non-default argument follows default argument\n"
          ]
        }
      ]
    },
    {
      "cell_type": "code",
      "metadata": {
        "id": "U7zQA4_Vervz",
        "outputId": "7c03dca0-88b1-4127-b0a4-f582dc9349b3",
        "colab": {
          "base_uri": "https://localhost:8080/"
        }
      },
      "source": [
        "def f1(a, b, c = 2, d = 0):\n",
        "  return a + b + c + d\n",
        "\n",
        "print(f1(2, 3, 4, 5))\n",
        "print(f1(2, 3))\n",
        "print(f1(2, 3, 5))\n",
        "\n",
        "f1(2, 3, d = 3)\n",
        "f1(b = 2, c = 3, d = 3, a = 10)"
      ],
      "execution_count": 51,
      "outputs": [
        {
          "output_type": "stream",
          "text": [
            "14\n",
            "7\n",
            "10\n"
          ],
          "name": "stdout"
        },
        {
          "output_type": "execute_result",
          "data": {
            "text/plain": [
              "18"
            ]
          },
          "metadata": {
            "tags": []
          },
          "execution_count": 51
        }
      ]
    },
    {
      "cell_type": "code",
      "metadata": {
        "id": "jc3E4xNufHZd"
      },
      "source": [
        ""
      ],
      "execution_count": null,
      "outputs": []
    }
  ]
}